{
 "cells": [
  {
   "cell_type": "markdown",
   "id": "046ab62f",
   "metadata": {
    "papermill": {
     "duration": 0.004422,
     "end_time": "2025-02-14T07:18:24.152048",
     "exception": false,
     "start_time": "2025-02-14T07:18:24.147626",
     "status": "completed"
    },
    "tags": []
   },
   "source": [
    "**This notebook is an exercise in the [Intro to Programming](https://www.kaggle.com/learn/intro-to-programming) course.  You can reference the tutorial at [this link](https://www.kaggle.com/alexisbcook/functions).**\n",
    "\n",
    "---\n"
   ]
  },
  {
   "cell_type": "markdown",
   "id": "5a4dc22d",
   "metadata": {
    "papermill": {
     "duration": 0.003008,
     "end_time": "2025-02-14T07:18:24.158597",
     "exception": false,
     "start_time": "2025-02-14T07:18:24.155589",
     "status": "completed"
    },
    "tags": []
   },
   "source": [
    "In the tutorial, you learned about functions. In this exercise, you'll write some of your own!\n",
    "\n",
    "# Set up the notebook\n",
    "\n",
    "Run the next code cell without changes to set up the notebook."
   ]
  },
  {
   "cell_type": "code",
   "execution_count": 1,
   "id": "01c7d7e4",
   "metadata": {
    "execution": {
     "iopub.execute_input": "2025-02-14T07:18:24.167249Z",
     "iopub.status.busy": "2025-02-14T07:18:24.166973Z",
     "iopub.status.idle": "2025-02-14T07:18:25.123910Z",
     "shell.execute_reply": "2025-02-14T07:18:25.122694Z"
    },
    "papermill": {
     "duration": 0.964314,
     "end_time": "2025-02-14T07:18:25.126286",
     "exception": false,
     "start_time": "2025-02-14T07:18:24.161972",
     "status": "completed"
    },
    "tags": []
   },
   "outputs": [
    {
     "name": "stdout",
     "output_type": "stream",
     "text": [
      "Setup complete.\n"
     ]
    }
   ],
   "source": [
    "# Set up the exercise\n",
    "import math\n",
    "from learntools.core import binder\n",
    "binder.bind(globals())\n",
    "from learntools.intro_to_programming.ex2 import *\n",
    "print('Setup complete.')"
   ]
  },
  {
   "cell_type": "markdown",
   "id": "7c60dc21",
   "metadata": {
    "papermill": {
     "duration": 0.003499,
     "end_time": "2025-02-14T07:18:25.134878",
     "exception": false,
     "start_time": "2025-02-14T07:18:25.131379",
     "status": "completed"
    },
    "tags": []
   },
   "source": [
    "# Question 1\n",
    "\n",
    "In the [House Prices - Advanced Regression Techniques competition](https://www.kaggle.com/c/house-prices-advanced-regression-techniques/overview), you need to use information like the number of bedrooms and bathrooms to predict the price of a house.  Inspired by this competition, you'll write your own function to do this.\n",
    "\n",
    "In the next code cell, create a function `get_expected_cost()` that has two arguments:\n",
    "- `beds` - number of bedrooms \n",
    "- `baths` - number of bathrooms\n",
    "\n",
    "It should return the expected cost of a house with that number of bedrooms and bathrooms.  Assume that:\n",
    "- the expected cost for a house with 0 bedrooms and 0 bathrooms is `80000`.  \n",
    "- each bedroom adds `30000` to the expected cost\n",
    "- each bathroom adds `10000` to the expected cost.\n",
    "\n",
    "For instance, \n",
    "- a house with 1 bedroom and 1 bathroom has an expected cost of `120000`, and \n",
    "- a house with 2 bedrooms and 1 bathroom has an expected cost of `150000`."
   ]
  },
  {
   "cell_type": "code",
   "execution_count": 2,
   "id": "b457b406",
   "metadata": {
    "execution": {
     "iopub.execute_input": "2025-02-14T07:18:25.144494Z",
     "iopub.status.busy": "2025-02-14T07:18:25.143956Z",
     "iopub.status.idle": "2025-02-14T07:18:25.153091Z",
     "shell.execute_reply": "2025-02-14T07:18:25.152014Z"
    },
    "papermill": {
     "duration": 0.01604,
     "end_time": "2025-02-14T07:18:25.154909",
     "exception": false,
     "start_time": "2025-02-14T07:18:25.138869",
     "status": "completed"
    },
    "tags": []
   },
   "outputs": [
    {
     "data": {
      "application/javascript": [
       "parent.postMessage({\"jupyterEvent\": \"custom.exercise_interaction\", \"data\": {\"outcomeType\": 1, \"valueTowardsCompletion\": 0.2, \"interactionType\": 1, \"questionType\": 2, \"questionId\": \"1_GetExpectedCost\", \"learnToolsVersion\": \"0.3.4\", \"failureMessage\": \"\", \"exceptionClass\": \"\", \"trace\": \"\"}}, \"*\")"
      ],
      "text/plain": [
       "<IPython.core.display.Javascript object>"
      ]
     },
     "metadata": {},
     "output_type": "display_data"
    },
    {
     "data": {
      "text/markdown": [
       "<span style=\"color:#33cc33\">Correct</span>"
      ],
      "text/plain": [
       "Correct"
      ]
     },
     "metadata": {},
     "output_type": "display_data"
    }
   ],
   "source": [
    "# TODO: Complete the function\n",
    "def get_expected_cost(beds, baths):\n",
    "    value = 80000 + 30000* beds+ 10000*baths\n",
    "    return value\n",
    "\n",
    "# Check your answer \n",
    "q1.check()"
   ]
  },
  {
   "cell_type": "code",
   "execution_count": 3,
   "id": "03bd6ebe",
   "metadata": {
    "execution": {
     "iopub.execute_input": "2025-02-14T07:18:25.164621Z",
     "iopub.status.busy": "2025-02-14T07:18:25.164135Z",
     "iopub.status.idle": "2025-02-14T07:18:25.167937Z",
     "shell.execute_reply": "2025-02-14T07:18:25.167120Z"
    },
    "papermill": {
     "duration": 0.010538,
     "end_time": "2025-02-14T07:18:25.169718",
     "exception": false,
     "start_time": "2025-02-14T07:18:25.159180",
     "status": "completed"
    },
    "tags": []
   },
   "outputs": [],
   "source": [
    "# Uncomment to see a hint\n",
    "#q1.hint()\n",
    "\n",
    "# Uncomment to view the solution\n",
    "#q1.solution()"
   ]
  },
  {
   "cell_type": "markdown",
   "id": "e2e8b5f3",
   "metadata": {
    "papermill": {
     "duration": 0.003354,
     "end_time": "2025-02-14T07:18:25.177792",
     "exception": false,
     "start_time": "2025-02-14T07:18:25.174438",
     "status": "completed"
    },
    "tags": []
   },
   "source": [
    "# Question 2\n",
    "\n",
    "You are thinking about buying a home and want to get an idea of how much you will spend, based on the number of bedrooms and bathrooms.  You are trying to decide between four different options:\n",
    "- Option 1: house with two bedrooms and three bathrooms\n",
    "- Option 2: house with three bedrooms and two bathrooms\n",
    "- Option 3: house with three bedrooms and three bathrooms\n",
    "- Option 4: house with three bedrooms and four bathrooms\n",
    "\n",
    "Use the `get_expected_cost()` function you defined in question 1 to set `option_1`, `option_2`, `option_3`, and `option_4` to the expected cost of each option."
   ]
  },
  {
   "cell_type": "code",
   "execution_count": 4,
   "id": "e726f5cc",
   "metadata": {
    "execution": {
     "iopub.execute_input": "2025-02-14T07:18:25.186231Z",
     "iopub.status.busy": "2025-02-14T07:18:25.185915Z",
     "iopub.status.idle": "2025-02-14T07:18:25.194314Z",
     "shell.execute_reply": "2025-02-14T07:18:25.193433Z"
    },
    "papermill": {
     "duration": 0.014775,
     "end_time": "2025-02-14T07:18:25.195977",
     "exception": false,
     "start_time": "2025-02-14T07:18:25.181202",
     "status": "completed"
    },
    "tags": []
   },
   "outputs": [
    {
     "name": "stdout",
     "output_type": "stream",
     "text": [
      "170000\n",
      "190000\n",
      "200000\n",
      "210000\n"
     ]
    },
    {
     "data": {
      "application/javascript": [
       "parent.postMessage({\"jupyterEvent\": \"custom.exercise_interaction\", \"data\": {\"outcomeType\": 1, \"valueTowardsCompletion\": 0.2, \"interactionType\": 1, \"questionType\": 1, \"questionId\": \"2_RunGetExpectedCost\", \"learnToolsVersion\": \"0.3.4\", \"failureMessage\": \"\", \"exceptionClass\": \"\", \"trace\": \"\"}}, \"*\")"
      ],
      "text/plain": [
       "<IPython.core.display.Javascript object>"
      ]
     },
     "metadata": {},
     "output_type": "display_data"
    },
    {
     "data": {
      "text/markdown": [
       "<span style=\"color:#33cc33\">Correct</span>"
      ],
      "text/plain": [
       "Correct"
      ]
     },
     "metadata": {},
     "output_type": "display_data"
    }
   ],
   "source": [
    "# TODO: Use the get_expected_cost function to fill in each value\n",
    "option_one = get_expected_cost(2,3)\n",
    "option_two = get_expected_cost(3,2)\n",
    "option_three = get_expected_cost(3,3)\n",
    "option_four = get_expected_cost(3,4)\n",
    "\n",
    "print(option_one)\n",
    "print(option_two)\n",
    "print(option_three)\n",
    "print(option_four)\n",
    "\n",
    "# Check your answer\n",
    "q2.check()"
   ]
  },
  {
   "cell_type": "code",
   "execution_count": 5,
   "id": "1f0ac3ea",
   "metadata": {
    "execution": {
     "iopub.execute_input": "2025-02-14T07:18:25.206185Z",
     "iopub.status.busy": "2025-02-14T07:18:25.205705Z",
     "iopub.status.idle": "2025-02-14T07:18:25.209848Z",
     "shell.execute_reply": "2025-02-14T07:18:25.208702Z"
    },
    "papermill": {
     "duration": 0.010735,
     "end_time": "2025-02-14T07:18:25.211309",
     "exception": false,
     "start_time": "2025-02-14T07:18:25.200574",
     "status": "completed"
    },
    "tags": []
   },
   "outputs": [],
   "source": [
    "# Uncomment to see a hint\n",
    "#q2.hint()\n",
    "\n",
    "# Uncomment to view the solution\n",
    "#q2.solution()"
   ]
  },
  {
   "cell_type": "markdown",
   "id": "88c0d27d",
   "metadata": {
    "papermill": {
     "duration": 0.003712,
     "end_time": "2025-02-14T07:18:25.219885",
     "exception": false,
     "start_time": "2025-02-14T07:18:25.216173",
     "status": "completed"
    },
    "tags": []
   },
   "source": [
    "# Question 3\n",
    "\n",
    "You're a home decorator, and you'd like to use Python to streamline some of your work.  Specifically, you're creating a tool that you intend to use to calculate the cost of painting a room.\n",
    "\n",
    "As a first step, define a function `get_cost()` that takes as input:\n",
    "- `sqft_walls` = total square feet of walls to be painted\n",
    "- `sqft_ceiling` = square feet of ceiling to be painted\n",
    "- `sqft_per_gallon` = number of square feet that you can cover with one gallon of paint\n",
    "- `cost_per_gallon` = cost (in dollars) of one gallon of paint\n",
    "\n",
    "It should return the cost (in dollars) of putting one coat of paint on all walls and the ceiling.  Assume you can buy the exact amount of paint that you need, so you can buy partial gallons (e.g., if you need 7.523 gallons, you can buy that exact amount, instead of needing to buy 8 gallons and waste some paint).  Do not round your answer."
   ]
  },
  {
   "cell_type": "code",
   "execution_count": 6,
   "id": "a4a3ee95",
   "metadata": {
    "execution": {
     "iopub.execute_input": "2025-02-14T07:18:25.229462Z",
     "iopub.status.busy": "2025-02-14T07:18:25.229069Z",
     "iopub.status.idle": "2025-02-14T07:18:25.237388Z",
     "shell.execute_reply": "2025-02-14T07:18:25.236348Z"
    },
    "papermill": {
     "duration": 0.015184,
     "end_time": "2025-02-14T07:18:25.238992",
     "exception": false,
     "start_time": "2025-02-14T07:18:25.223808",
     "status": "completed"
    },
    "tags": []
   },
   "outputs": [
    {
     "data": {
      "application/javascript": [
       "parent.postMessage({\"jupyterEvent\": \"custom.exercise_interaction\", \"data\": {\"outcomeType\": 1, \"valueTowardsCompletion\": 0.2, \"interactionType\": 1, \"questionType\": 2, \"questionId\": \"3_GetCostPaint\", \"learnToolsVersion\": \"0.3.4\", \"failureMessage\": \"\", \"exceptionClass\": \"\", \"trace\": \"\"}}, \"*\")"
      ],
      "text/plain": [
       "<IPython.core.display.Javascript object>"
      ]
     },
     "metadata": {},
     "output_type": "display_data"
    },
    {
     "data": {
      "text/markdown": [
       "<span style=\"color:#33cc33\">Correct</span>"
      ],
      "text/plain": [
       "Correct"
      ]
     },
     "metadata": {},
     "output_type": "display_data"
    }
   ],
   "source": [
    "# TODO: Finish defining the function\n",
    "def get_cost(sqft_walls, sqft_ceiling, sqft_per_gallon, cost_per_gallon):\n",
    "    total_sqft = sqft_walls + sqft_ceiling\n",
    "    gallons_needed = total_sqft/ sqft_per_gallon\n",
    "    cost = cost_per_gallon * gallons_needed\n",
    "    return cost\n",
    "\n",
    "# Check your answer\n",
    "q3.check()"
   ]
  },
  {
   "cell_type": "code",
   "execution_count": 7,
   "id": "6a16efba",
   "metadata": {
    "execution": {
     "iopub.execute_input": "2025-02-14T07:18:25.250364Z",
     "iopub.status.busy": "2025-02-14T07:18:25.250011Z",
     "iopub.status.idle": "2025-02-14T07:18:25.262220Z",
     "shell.execute_reply": "2025-02-14T07:18:25.260570Z"
    },
    "papermill": {
     "duration": 0.020057,
     "end_time": "2025-02-14T07:18:25.264237",
     "exception": false,
     "start_time": "2025-02-14T07:18:25.244180",
     "status": "completed"
    },
    "tags": []
   },
   "outputs": [
    {
     "data": {
      "application/javascript": [
       "parent.postMessage({\"jupyterEvent\": \"custom.exercise_interaction\", \"data\": {\"interactionType\": 2, \"questionType\": 2, \"questionId\": \"3_GetCostPaint\", \"learnToolsVersion\": \"0.3.4\", \"valueTowardsCompletion\": 0.0, \"failureMessage\": \"\", \"exceptionClass\": \"\", \"trace\": \"\", \"outcomeType\": 4}}, \"*\")"
      ],
      "text/plain": [
       "<IPython.core.display.Javascript object>"
      ]
     },
     "metadata": {},
     "output_type": "display_data"
    },
    {
     "data": {
      "text/markdown": [
       "<span style=\"color:#3366cc\">Hint:</span> Begin by calculating the total number of square feet that need to be painted. Then, based on that, figure out how many gallons you need.  Then, once you know how many gallons you need, you can calculate the total cost of the project."
      ],
      "text/plain": [
       "Hint: Begin by calculating the total number of square feet that need to be painted. Then, based on that, figure out how many gallons you need.  Then, once you know how many gallons you need, you can calculate the total cost of the project."
      ]
     },
     "metadata": {},
     "output_type": "display_data"
    },
    {
     "data": {
      "application/javascript": [
       "parent.postMessage({\"jupyterEvent\": \"custom.exercise_interaction\", \"data\": {\"interactionType\": 3, \"questionType\": 2, \"questionId\": \"3_GetCostPaint\", \"learnToolsVersion\": \"0.3.4\", \"valueTowardsCompletion\": 0.0, \"failureMessage\": \"\", \"exceptionClass\": \"\", \"trace\": \"\", \"outcomeType\": 4}}, \"*\")"
      ],
      "text/plain": [
       "<IPython.core.display.Javascript object>"
      ]
     },
     "metadata": {},
     "output_type": "display_data"
    },
    {
     "data": {
      "text/markdown": [
       "<span style=\"color:#33cc99\">Solution:</span> \n",
       "```python\n",
       "\n",
       "def get_cost(sqft_walls, sqft_ceiling, sqft_per_gallon, cost_per_gallon):\n",
       "    total_sqft = sqft_walls + sqft_ceiling\n",
       "    gallons_needed = total_sqft / sqft_per_gallon\n",
       "    cost = cost_per_gallon * gallons_needed\n",
       "    return cost\n",
       "\n",
       "```"
      ],
      "text/plain": [
       "Solution: \n",
       "```python\n",
       "\n",
       "def get_cost(sqft_walls, sqft_ceiling, sqft_per_gallon, cost_per_gallon):\n",
       "    total_sqft = sqft_walls + sqft_ceiling\n",
       "    gallons_needed = total_sqft / sqft_per_gallon\n",
       "    cost = cost_per_gallon * gallons_needed\n",
       "    return cost\n",
       "\n",
       "```"
      ]
     },
     "metadata": {},
     "output_type": "display_data"
    }
   ],
   "source": [
    "# Uncomment to see a hint\n",
    "q3.hint()\n",
    "\n",
    "# Uncomment to view the solution\n",
    "q3.solution()"
   ]
  },
  {
   "cell_type": "markdown",
   "id": "2fda86ce",
   "metadata": {
    "papermill": {
     "duration": 0.003821,
     "end_time": "2025-02-14T07:18:25.272846",
     "exception": false,
     "start_time": "2025-02-14T07:18:25.269025",
     "status": "completed"
    },
    "tags": []
   },
   "source": [
    "# Question 4\n",
    "\n",
    "Use the `get_cost()` function you defined in Question 3 to calculate the cost of applying one coat of paint to a room with:\n",
    "- 432 square feet of walls, and\n",
    "- 144 square feet of ceiling.\n",
    "\n",
    "Assume that one gallon of paint covers 400 square feet and costs $15.  As in Question 3, assume you can buy partial gallons of paint.  Do not round your answer."
   ]
  },
  {
   "cell_type": "code",
   "execution_count": 8,
   "id": "55f74e99",
   "metadata": {
    "execution": {
     "iopub.execute_input": "2025-02-14T07:18:25.283743Z",
     "iopub.status.busy": "2025-02-14T07:18:25.283279Z",
     "iopub.status.idle": "2025-02-14T07:18:25.287704Z",
     "shell.execute_reply": "2025-02-14T07:18:25.286654Z"
    },
    "papermill": {
     "duration": 0.012047,
     "end_time": "2025-02-14T07:18:25.288920",
     "exception": false,
     "start_time": "2025-02-14T07:18:25.276873",
     "status": "completed"
    },
    "tags": []
   },
   "outputs": [],
   "source": [
    "# TODO: Set the project_cost variable to the cost of the project\n",
    "project_cost = get_cost(432, 144, 400, 15) "
   ]
  },
  {
   "cell_type": "code",
   "execution_count": 9,
   "id": "ff167a5c",
   "metadata": {
    "execution": {
     "iopub.execute_input": "2025-02-14T07:18:25.299809Z",
     "iopub.status.busy": "2025-02-14T07:18:25.299407Z",
     "iopub.status.idle": "2025-02-14T07:18:25.302778Z",
     "shell.execute_reply": "2025-02-14T07:18:25.301994Z"
    },
    "papermill": {
     "duration": 0.010919,
     "end_time": "2025-02-14T07:18:25.304973",
     "exception": false,
     "start_time": "2025-02-14T07:18:25.294054",
     "status": "completed"
    },
    "tags": []
   },
   "outputs": [],
   "source": [
    "# Uncomment to see a hint\n",
    "#q4.hint()\n",
    "\n",
    "# Uncomment to view the solution\n",
    "#q4.solution()"
   ]
  },
  {
   "cell_type": "markdown",
   "id": "adc73a3e",
   "metadata": {
    "papermill": {
     "duration": 0.00515,
     "end_time": "2025-02-14T07:18:25.316641",
     "exception": false,
     "start_time": "2025-02-14T07:18:25.311491",
     "status": "completed"
    },
    "tags": []
   },
   "source": [
    "# 🌶️ Question 5\n",
    "\n",
    "Now say you can no longer buy fractions of a gallon.  (For instance, if you need 4.3 gallons to do a project, then you have to buy 5 gallons of paint.)\n",
    "\n",
    "With this new scenario, you will create a new function `get_actual_cost` that uses the same inputs and calculates the cost of your project.\n",
    "\n",
    "One function that you'll need to use to do this is `math.ceil()`.  We demonstrate usage of this function in the code cell below.  It takes as a number as input and rounds the number up to the nearest integer.  \n",
    "\n",
    "Run the next code cell to test this function for yourself.  Feel free to change the value of `test_value` and make sure `math.ceil()` returns the number you expect."
   ]
  },
  {
   "cell_type": "code",
   "execution_count": 10,
   "id": "028baaf6",
   "metadata": {
    "execution": {
     "iopub.execute_input": "2025-02-14T07:18:25.328852Z",
     "iopub.status.busy": "2025-02-14T07:18:25.328498Z",
     "iopub.status.idle": "2025-02-14T07:18:25.333390Z",
     "shell.execute_reply": "2025-02-14T07:18:25.331911Z"
    },
    "papermill": {
     "duration": 0.012988,
     "end_time": "2025-02-14T07:18:25.335138",
     "exception": false,
     "start_time": "2025-02-14T07:18:25.322150",
     "status": "completed"
    },
    "tags": []
   },
   "outputs": [
    {
     "name": "stdout",
     "output_type": "stream",
     "text": [
      "28\n"
     ]
    }
   ],
   "source": [
    "test_value = 27.10\n",
    "rounded_value = math.ceil(test_value)\n",
    "print(rounded_value)"
   ]
  },
  {
   "cell_type": "markdown",
   "id": "9b3215db",
   "metadata": {
    "papermill": {
     "duration": 0.00495,
     "end_time": "2025-02-14T07:18:25.346389",
     "exception": false,
     "start_time": "2025-02-14T07:18:25.341439",
     "status": "completed"
    },
    "tags": []
   },
   "source": [
    "Use the next code cell to define the function `get_actual_cost()`.  You'll need to use the `math.ceil()` function to do this.\n",
    "\n",
    "When answering this question, note that it's completely valid to define a function that makes use of another function.  For instance, we can define a function `round_up_and_divide_by_three` that makes use of the `math.ceil` function:\n",
    "```\n",
    "def round_up_and_divide_by_three(num):\n",
    "    new_value = math.ceil(num)\n",
    "    final_value = new_value / 3\n",
    "    return final_value\n",
    "```"
   ]
  },
  {
   "cell_type": "code",
   "execution_count": 11,
   "id": "e627ca95",
   "metadata": {
    "execution": {
     "iopub.execute_input": "2025-02-14T07:18:25.359431Z",
     "iopub.status.busy": "2025-02-14T07:18:25.358996Z",
     "iopub.status.idle": "2025-02-14T07:18:25.368357Z",
     "shell.execute_reply": "2025-02-14T07:18:25.367345Z"
    },
    "papermill": {
     "duration": 0.017915,
     "end_time": "2025-02-14T07:18:25.369855",
     "exception": false,
     "start_time": "2025-02-14T07:18:25.351940",
     "status": "completed"
    },
    "tags": []
   },
   "outputs": [
    {
     "data": {
      "application/javascript": [
       "parent.postMessage({\"jupyterEvent\": \"custom.exercise_interaction\", \"data\": {\"outcomeType\": 1, \"valueTowardsCompletion\": 0.2, \"interactionType\": 1, \"questionType\": 2, \"questionId\": \"5_NoMoreFractions\", \"learnToolsVersion\": \"0.3.4\", \"failureMessage\": \"\", \"exceptionClass\": \"\", \"trace\": \"\"}}, \"*\")"
      ],
      "text/plain": [
       "<IPython.core.display.Javascript object>"
      ]
     },
     "metadata": {},
     "output_type": "display_data"
    },
    {
     "data": {
      "text/markdown": [
       "<span style=\"color:#33cc33\">Correct</span>"
      ],
      "text/plain": [
       "Correct"
      ]
     },
     "metadata": {},
     "output_type": "display_data"
    }
   ],
   "source": [
    "def get_actual_cost(sqft_walls, sqft_ceiling, sqft_per_gallon, cost_per_gallon):\n",
    "    total_sqft = sqft_walls + sqft_ceiling\n",
    "    gallons_needed = total_sqft / sqft_per_gallon\n",
    "    gallons_to_purchase = math.ceil(gallons_needed)\n",
    "    cost = cost_per_gallon * gallons_to_purchase\n",
    "    return cost\n",
    "    \n",
    "# Check your answer\n",
    "q5.check()"
   ]
  },
  {
   "cell_type": "code",
   "execution_count": 12,
   "id": "e1dfe5d2",
   "metadata": {
    "execution": {
     "iopub.execute_input": "2025-02-14T07:18:25.381287Z",
     "iopub.status.busy": "2025-02-14T07:18:25.380930Z",
     "iopub.status.idle": "2025-02-14T07:18:25.384987Z",
     "shell.execute_reply": "2025-02-14T07:18:25.384003Z"
    },
    "papermill": {
     "duration": 0.011337,
     "end_time": "2025-02-14T07:18:25.386300",
     "exception": false,
     "start_time": "2025-02-14T07:18:25.374963",
     "status": "completed"
    },
    "tags": []
   },
   "outputs": [],
   "source": [
    "# Uncomment to see a hint\n",
    "#q5.hint()\n",
    "\n",
    "# Uncomment to view the solution\n",
    "#q5.solution()"
   ]
  },
  {
   "cell_type": "markdown",
   "id": "4be22d7d",
   "metadata": {
    "papermill": {
     "duration": 0.004189,
     "end_time": "2025-02-14T07:18:25.396320",
     "exception": false,
     "start_time": "2025-02-14T07:18:25.392131",
     "status": "completed"
    },
    "tags": []
   },
   "source": [
    "Once your function is verified as correct, run the next code cell to calculate the updated cost of your project."
   ]
  },
  {
   "cell_type": "code",
   "execution_count": 13,
   "id": "e33416ef",
   "metadata": {
    "execution": {
     "iopub.execute_input": "2025-02-14T07:18:25.406908Z",
     "iopub.status.busy": "2025-02-14T07:18:25.406402Z",
     "iopub.status.idle": "2025-02-14T07:18:25.413027Z",
     "shell.execute_reply": "2025-02-14T07:18:25.411250Z"
    },
    "papermill": {
     "duration": 0.013808,
     "end_time": "2025-02-14T07:18:25.414575",
     "exception": false,
     "start_time": "2025-02-14T07:18:25.400767",
     "status": "completed"
    },
    "tags": []
   },
   "outputs": [
    {
     "data": {
      "text/plain": [
       "30"
      ]
     },
     "execution_count": 13,
     "metadata": {},
     "output_type": "execute_result"
    }
   ],
   "source": [
    "get_actual_cost(432, 144, 400, 15) "
   ]
  },
  {
   "cell_type": "markdown",
   "id": "25bcfe4f",
   "metadata": {
    "papermill": {
     "duration": 0.004237,
     "end_time": "2025-02-14T07:18:25.423387",
     "exception": false,
     "start_time": "2025-02-14T07:18:25.419150",
     "status": "completed"
    },
    "tags": []
   },
   "source": [
    "Say you're working with a slightly larger room.  Run the next code cell to calculate the cost of the project."
   ]
  },
  {
   "cell_type": "code",
   "execution_count": 14,
   "id": "1e019ab3",
   "metadata": {
    "execution": {
     "iopub.execute_input": "2025-02-14T07:18:25.433888Z",
     "iopub.status.busy": "2025-02-14T07:18:25.433401Z",
     "iopub.status.idle": "2025-02-14T07:18:25.439321Z",
     "shell.execute_reply": "2025-02-14T07:18:25.438366Z"
    },
    "papermill": {
     "duration": 0.013641,
     "end_time": "2025-02-14T07:18:25.441344",
     "exception": false,
     "start_time": "2025-02-14T07:18:25.427703",
     "status": "completed"
    },
    "tags": []
   },
   "outputs": [
    {
     "data": {
      "text/plain": [
       "45"
      ]
     },
     "execution_count": 14,
     "metadata": {},
     "output_type": "execute_result"
    }
   ],
   "source": [
    "get_actual_cost(594, 288, 400, 15) "
   ]
  },
  {
   "cell_type": "markdown",
   "id": "cd4bfdd9",
   "metadata": {
    "papermill": {
     "duration": 0.004768,
     "end_time": "2025-02-14T07:18:25.452382",
     "exception": false,
     "start_time": "2025-02-14T07:18:25.447614",
     "status": "completed"
    },
    "tags": []
   },
   "source": [
    "# Keep going\n",
    "\n",
    "Continue to learn about **[data types](https://www.kaggle.com/alexisbcook/data-types)**."
   ]
  },
  {
   "cell_type": "markdown",
   "id": "e38aad3f",
   "metadata": {
    "papermill": {
     "duration": 0.004593,
     "end_time": "2025-02-14T07:18:25.462176",
     "exception": false,
     "start_time": "2025-02-14T07:18:25.457583",
     "status": "completed"
    },
    "tags": []
   },
   "source": [
    "---\n",
    "\n",
    "\n",
    "\n",
    "\n",
    "*Have questions or comments? Visit the [course discussion forum](https://www.kaggle.com/learn/intro-to-programming/discussion) to chat with other learners.*"
   ]
  }
 ],
 "metadata": {
  "kaggle": {
   "accelerator": "none",
   "dataSources": [],
   "isGpuEnabled": false,
   "isInternetEnabled": false,
   "language": "python",
   "sourceType": "notebook"
  },
  "kernelspec": {
   "display_name": "Python 3",
   "language": "python",
   "name": "python3"
  },
  "language_info": {
   "codemirror_mode": {
    "name": "ipython",
    "version": 3
   },
   "file_extension": ".py",
   "mimetype": "text/x-python",
   "name": "python",
   "nbconvert_exporter": "python",
   "pygments_lexer": "ipython3",
   "version": "3.10.12"
  },
  "papermill": {
   "default_parameters": {},
   "duration": 4.115014,
   "end_time": "2025-02-14T07:18:25.987766",
   "environment_variables": {},
   "exception": null,
   "input_path": "__notebook__.ipynb",
   "output_path": "__notebook__.ipynb",
   "parameters": {},
   "start_time": "2025-02-14T07:18:21.872752",
   "version": "2.6.0"
  }
 },
 "nbformat": 4,
 "nbformat_minor": 5
}
